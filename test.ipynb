{
 "metadata": {
  "language_info": {
   "codemirror_mode": {
    "name": "ipython",
    "version": 3
   },
   "file_extension": ".py",
   "mimetype": "text/x-python",
   "name": "python",
   "nbconvert_exporter": "python",
   "pygments_lexer": "ipython3",
   "version": "3.8.10"
  },
  "orig_nbformat": 4,
  "kernelspec": {
   "name": "python3",
   "display_name": "Python 3.8.10 64-bit ('demo': conda)"
  },
  "interpreter": {
   "hash": "5ea6427cf607adc2cc8f588557084e2591a596f194cc3ef5b96a9f34237551bf"
  }
 },
 "nbformat": 4,
 "nbformat_minor": 2,
 "cells": [
  {
   "cell_type": "code",
   "execution_count": 16,
   "metadata": {},
   "outputs": [],
   "source": [
    "import glob\n",
    "import os\n",
    "import pandas as pd"
   ]
  },
  {
   "cell_type": "code",
   "execution_count": 25,
   "metadata": {},
   "outputs": [
    {
     "output_type": "execute_result",
     "data": {
      "text/plain": [
       "27792.0"
      ]
     },
     "metadata": {},
     "execution_count": 25
    }
   ],
   "source": [
    "with open('/home/sharing/disk3/Datasets/TCM-Datasets/多模态数据/面诊/labels.csv', 'r') as f:\n",
    "    labels = pd.read_csv(f)\n",
    "labels.iloc[0]['sample_id']"
   ]
  },
  {
   "cell_type": "code",
   "execution_count": 4,
   "metadata": {},
   "outputs": [
    {
     "output_type": "execute_result",
     "data": {
      "text/plain": [
       "8737"
      ]
     },
     "metadata": {},
     "execution_count": 4
    }
   ],
   "source": [
    "len(labels)"
   ]
  },
  {
   "cell_type": "code",
   "execution_count": 6,
   "metadata": {},
   "outputs": [
    {
     "output_type": "execute_result",
     "data": {
      "text/plain": [
       "(1280, 720, 3)"
      ]
     },
     "metadata": {},
     "execution_count": 6
    }
   ],
   "source": [
    "import cv2\n",
    "img = cv2.imread('/home/sharing/disk3/Datasets/TCM-Datasets/多模态数据/面诊/raw/27772.jpg')\n",
    "img.shape"
   ]
  },
  {
   "cell_type": "code",
   "execution_count": 12,
   "metadata": {},
   "outputs": [],
   "source": []
  },
  {
   "cell_type": "code",
   "execution_count": 13,
   "metadata": {},
   "outputs": [],
   "source": [
    "from torchvision import transforms\n",
    "from PIL import Image\n",
    "from torchvision.transforms import functional as TF\n",
    "import torch\n",
    "\n",
    "img = Image.open('/home/sharing/disk3/Datasets/TCM-Datasets/多模态数据/面诊/raw/27777.jpg')\n",
    "transform = transforms.ToTensor()\n",
    "aug = transform(img)\n"
   ]
  },
  {
   "cell_type": "code",
   "execution_count": 14,
   "metadata": {},
   "outputs": [
    {
     "output_type": "execute_result",
     "data": {
      "text/plain": [
       "tensor([[[0.5961, 0.5922, 0.5843,  ..., 0.3647, 0.3686, 0.3647],\n",
       "         [0.5922, 0.5804, 0.5843,  ..., 0.3647, 0.3647, 0.3647],\n",
       "         [0.5843, 0.5843, 0.5843,  ..., 0.3647, 0.3686, 0.3647],\n",
       "         ...,\n",
       "         [0.3765, 0.3647, 0.3608,  ..., 0.4039, 0.3961, 0.3961],\n",
       "         [0.3765, 0.3647, 0.3451,  ..., 0.4039, 0.4039, 0.4039],\n",
       "         [0.3804, 0.3608, 0.3412,  ..., 0.4118, 0.4039, 0.4039]],\n",
       "\n",
       "        [[0.6353, 0.6392, 0.6431,  ..., 0.4235, 0.4118, 0.4196],\n",
       "         [0.6431, 0.6392, 0.6431,  ..., 0.4235, 0.4078, 0.4196],\n",
       "         [0.6471, 0.6431, 0.6431,  ..., 0.4235, 0.4118, 0.4196],\n",
       "         ...,\n",
       "         [0.3569, 0.3569, 0.3686,  ..., 0.4039, 0.4118, 0.4275],\n",
       "         [0.3569, 0.3647, 0.3608,  ..., 0.4039, 0.4235, 0.4235],\n",
       "         [0.3608, 0.3686, 0.3647,  ..., 0.4118, 0.4235, 0.4235]],\n",
       "\n",
       "        [[0.6314, 0.6235, 0.6235,  ..., 0.4353, 0.4275, 0.4314],\n",
       "         [0.6157, 0.6196, 0.6235,  ..., 0.4353, 0.4235, 0.4314],\n",
       "         [0.6078, 0.6235, 0.6314,  ..., 0.4353, 0.4275, 0.4314],\n",
       "         ...,\n",
       "         [0.3804, 0.3686, 0.3647,  ..., 0.4353, 0.4235, 0.4353],\n",
       "         [0.3804, 0.3725, 0.3569,  ..., 0.4431, 0.4353, 0.4353],\n",
       "         [0.3765, 0.3647, 0.3569,  ..., 0.4510, 0.4353, 0.4353]]])"
      ]
     },
     "metadata": {},
     "execution_count": 14
    }
   ],
   "source": [
    "aug"
   ]
  },
  {
   "cell_type": "code",
   "execution_count": null,
   "metadata": {},
   "outputs": [],
   "source": []
  }
 ]
}